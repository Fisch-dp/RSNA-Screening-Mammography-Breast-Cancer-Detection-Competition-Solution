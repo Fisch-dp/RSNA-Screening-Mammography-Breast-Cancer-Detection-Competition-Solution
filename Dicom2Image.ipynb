{
 "cells": [
  {
   "attachments": {},
   "cell_type": "markdown",
   "id": "da8b4d5a",
   "metadata": {
    "papermill": {
     "duration": 0.006973,
     "end_time": "2024-04-14T19:44:39.725248",
     "exception": false,
     "start_time": "2024-04-14T19:44:39.718275",
     "status": "completed"
    },
    "tags": []
   },
   "source": [
    "## Initialization"
   ]
  },
  {
   "cell_type": "code",
   "execution_count": null,
   "id": "d3759c0b",
   "metadata": {
    "execution": {
     "iopub.execute_input": "2024-04-14T19:44:39.739581Z",
     "iopub.status.busy": "2024-04-14T19:44:39.738548Z",
     "iopub.status.idle": "2024-04-14T19:45:44.296175Z",
     "shell.execute_reply": "2024-04-14T19:45:44.294595Z"
    },
    "papermill": {
     "duration": 64.567818,
     "end_time": "2024-04-14T19:45:44.299127",
     "exception": false,
     "start_time": "2024-04-14T19:44:39.731309",
     "status": "completed"
    },
    "tags": []
   },
   "outputs": [],
   "source": [
    "%pip install dicomsdl"
   ]
  },
  {
   "cell_type": "code",
   "execution_count": 2,
   "id": "b55e88cf",
   "metadata": {
    "execution": {
     "iopub.execute_input": "2024-04-14T19:45:44.315631Z",
     "iopub.status.busy": "2024-04-14T19:45:44.315200Z",
     "iopub.status.idle": "2024-04-14T19:46:00.395201Z",
     "shell.execute_reply": "2024-04-14T19:46:00.393920Z"
    },
    "papermill": {
     "duration": 16.091184,
     "end_time": "2024-04-14T19:46:00.397799",
     "exception": false,
     "start_time": "2024-04-14T19:45:44.306615",
     "status": "completed"
    },
    "tags": []
   },
   "outputs": [],
   "source": [
    "%matplotlib inline\n",
    "import sys\n",
    "import os\n",
    "import glob\n",
    "import dicomsdl\n",
    "import numpy as np\n",
    "import pandas as pd\n",
    "from tqdm import tqdm\n",
    "import cv2\n",
    "from PIL import Image\n",
    "from joblib import Parallel, delayed\n",
    "\n",
    "sys.path.append(\"/kaggle/input/solution\")\n",
    "from config import *\n",
    "from utils import *"
   ]
  },
  {
   "cell_type": "code",
   "execution_count": 3,
   "id": "7721942a",
   "metadata": {
    "execution": {
     "iopub.execute_input": "2024-04-14T19:46:00.414588Z",
     "iopub.status.busy": "2024-04-14T19:46:00.413533Z",
     "iopub.status.idle": "2024-04-14T19:46:00.419182Z",
     "shell.execute_reply": "2024-04-14T19:46:00.418251Z"
    },
    "papermill": {
     "duration": 0.016134,
     "end_time": "2024-04-14T19:46:00.421222",
     "exception": false,
     "start_time": "2024-04-14T19:46:00.405088",
     "status": "completed"
    },
    "tags": []
   },
   "outputs": [],
   "source": [
    "NUM_OF_CORES=56\n",
    "cfg.img_size = (1024, 512)"
   ]
  },
  {
   "cell_type": "code",
   "execution_count": 6,
   "id": "e4310694",
   "metadata": {
    "execution": {
     "iopub.execute_input": "2024-04-14T19:46:00.496424Z",
     "iopub.status.busy": "2024-04-14T19:46:00.496145Z",
     "iopub.status.idle": "2024-04-14T19:47:45.817455Z",
     "shell.execute_reply": "2024-04-14T19:47:45.816416Z"
    },
    "papermill": {
     "duration": 105.338779,
     "end_time": "2024-04-14T19:47:45.827462",
     "exception": false,
     "start_time": "2024-04-14T19:46:00.488683",
     "status": "completed"
    },
    "tags": []
   },
   "outputs": [
    {
     "name": "stdout",
     "output_type": "stream",
     "text": [
      "Number of images : 54706\n"
     ]
    }
   ],
   "source": [
    "# data locations\n",
    "cfg.data_dir = \"/kaggle/input/rsna-breast-cancer-detection\"\n",
    "cfg.root_dir = \"/kaggle/working/output/\" #output directory\n",
    "cfg.test_img_dir = cfg.data_dir + \"/train_images/\" # Directory of images to be preprocessed\n",
    "os.makedirs(cfg.root_dir, exist_ok=True)\n",
    "\n",
    "# df\n",
    "df_test = pd.read_csv(f'{cfg.data_dir}/train.csv')\n",
    "df_test[\"prediction_id\"] = df_test.patient_id.apply(str) + \"_\" + df_test.laterality\n",
    "test_images = glob.glob(\"/kaggle/input/rsna-breast-cancer-detection/test_images/*/*.dcm\")\n",
    "print(\"Number of images :\", len(test_images))\n",
    "\n",
    "# process df\n",
    "df_test['view'] = df_test['view'].map({machine_id: idx for idx, machine_id in enumerate(sorted(df_test['view'].unique()))})\n",
    "df_test['site_id'] -= 1\n",
    "df_test['age'].fillna(df_test['age'].mean(), inplace=True)\n",
    "df_test[\"age\"] = df_test['age'] / 100\n",
    "df_test = df_test.reset_index(drop=True)"
   ]
  },
  {
   "cell_type": "code",
   "execution_count": 7,
   "id": "36a9ead8",
   "metadata": {
    "_kg_hide-input": false,
    "execution": {
     "iopub.execute_input": "2024-04-14T19:47:45.842520Z",
     "iopub.status.busy": "2024-04-14T19:47:45.841763Z",
     "iopub.status.idle": "2024-04-14T19:47:46.150537Z",
     "shell.execute_reply": "2024-04-14T19:47:46.149513Z"
    },
    "papermill": {
     "duration": 0.318706,
     "end_time": "2024-04-14T19:47:46.152803",
     "exception": false,
     "start_time": "2024-04-14T19:47:45.834097",
     "status": "completed"
    },
    "tags": []
   },
   "outputs": [],
   "source": [
    "def load_image_dicomsdl(i):\n",
    "    dcm_file = cfg.test_img_dir + df_test.patient_id.astype(str).iloc[i] + \"/\" + df_test.image_id.astype(str).iloc[i] + '.dcm'\n",
    "    dataset = dicomsdl.open(dcm_file)\n",
    "    img = dataset.pixelData()\n",
    "\n",
    "    try:\n",
    "            # Load only the variables we need\n",
    "            center = dataset[\"WindowCenter\"]\n",
    "            width = dataset[\"WindowWidth\"]\n",
    "            bits_stored = dataset[\"BitsStored\"]\n",
    "            voi_lut_function = dataset[\"VOILUTFunction\"]\n",
    "\n",
    "            # For sigmoid it's a list, otherwise a single value\n",
    "            if isinstance(center, list):\n",
    "                center = center[0]\n",
    "            if isinstance(width, list):\n",
    "                width = width[0]\n",
    "\n",
    "            # Set y_min, max & range\n",
    "            y_min = 0\n",
    "            y_max = float(2**bits_stored - 1)\n",
    "            y_range = y_max\n",
    "\n",
    "            # Function with default LINEAR (so for Nan, it will use linear)\n",
    "            if voi_lut_function == \"SIGMOID\":\n",
    "                img = y_range / (1 + np.exp(-4 * (img - center) / width)) + y_min\n",
    "            else:\n",
    "                # Checks width for < 1 (in our case not necessary, always >= 750)\n",
    "                center -= 0.5\n",
    "                width -= 1\n",
    "\n",
    "                below = img <= (center - width / 2)\n",
    "                above = img > (center + width / 2)\n",
    "                between = np.logical_and(~below, ~above)\n",
    "\n",
    "                img[below] = y_min\n",
    "                img[above] = y_max\n",
    "                if between.any():\n",
    "                    img[between] = (\n",
    "                        ((img[between] - center) / width + 0.5) * y_range + y_min\n",
    "                    )\n",
    "    except Exception as e:\n",
    "#         dataset = dicomsdl.open(img_path)\n",
    "        img = dataset.pixelData()\n",
    "\n",
    "\n",
    "    img = (img - img.min()) / (img.max() - img.min())\n",
    "    if dataset[\"PhotometricInterpretation\"] == \"MONOCHROME1\":\n",
    "        img = 1 - img\n",
    "\n",
    "    img = (img * 255).astype(np.uint8)\n",
    "    \n",
    "    Y = img\n",
    "    xmin = Y.min()\n",
    "    xmax = Y.max()\n",
    "\n",
    "    norm = np.empty_like(Y, dtype=np.uint8)\n",
    "\n",
    "    dicomsdl.util.convert_to_uint8(Y, norm, xmin, xmax)\n",
    "\n",
    "    X = norm\n",
    "    X = X[5:-5, 5:-5]\n",
    "\n",
    "    output= cv2.connectedComponentsWithStats((X > 10).astype(np.uint8)[:, :], 8, cv2.CV_32S) #\n",
    "    stats = output[2]\n",
    "\n",
    "    idx = stats[1:, 4].argmax() + 1\n",
    "    x1, y1, w, h = stats[idx][:4]\n",
    "    x2 = x1 + w\n",
    "    y2 = y1 + h\n",
    "\n",
    "    img = Y[y1: y2, x1: x2]\n",
    "    img = Image.fromarray(img)\n",
    "    img = img.resize([cfg.img_size[1],cfg.img_size[0]], resample=Image.Resampling.LANCZOS)\n",
    "    img.save(cfg.root_dir + df_test.patient_id.astype(str).iloc[i] + \"_\" + df_test.image_id.astype(str).iloc[i] + \".png\", \"PNG\")"
   ]
  },
  {
   "cell_type": "code",
   "execution_count": null,
   "id": "c9353630",
   "metadata": {
    "_kg_hide-input": true,
    "execution": {
     "iopub.execute_input": "2024-04-14T19:47:46.167993Z",
     "iopub.status.busy": "2024-04-14T19:47:46.167637Z",
     "iopub.status.idle": "2024-04-15T04:24:44.020843Z",
     "shell.execute_reply": "2024-04-15T04:24:44.019704Z"
    },
    "papermill": {
     "duration": 31017.942471,
     "end_time": "2024-04-15T04:24:44.102297",
     "exception": false,
     "start_time": "2024-04-14T19:47:46.159826",
     "status": "completed"
    },
    "tags": []
   },
   "outputs": [],
   "source": [
    "Parallel(n_jobs=NUM_OF_CORES)(\n",
    "    delayed(load_image_dicomsdl)(f)\n",
    "    for f in tqdm(range(len(df_test.patient_id)))\n",
    "    )"
   ]
  }
 ],
 "metadata": {
  "kaggle": {
   "accelerator": "gpu",
   "dataSources": [
    {
     "databundleVersionId": 4629629,
     "sourceId": 39272,
     "sourceType": "competition"
    },
    {
     "datasetId": 2442142,
     "sourceId": 4133932,
     "sourceType": "datasetVersion"
    },
    {
     "datasetId": 2696406,
     "sourceId": 4635516,
     "sourceType": "datasetVersion"
    },
    {
     "datasetId": 2726166,
     "sourceId": 4721425,
     "sourceType": "datasetVersion"
    },
    {
     "datasetId": 2694061,
     "sourceId": 5089415,
     "sourceType": "datasetVersion"
    },
    {
     "datasetId": 3751790,
     "sourceId": 7881980,
     "sourceType": "datasetVersion"
    },
    {
     "sourceId": 104036025,
     "sourceType": "kernelVersion"
    },
    {
     "modelInstanceId": 12567,
     "sourceId": 16975,
     "sourceType": "modelInstanceVersion"
    }
   ],
   "dockerImageVersionId": 30302,
   "isGpuEnabled": true,
   "isInternetEnabled": false,
   "language": "python",
   "sourceType": "notebook"
  },
  "kernelspec": {
   "display_name": "Python 3",
   "language": "python",
   "name": "python3"
  },
  "language_info": {
   "codemirror_mode": {
    "name": "ipython",
    "version": 3
   },
   "file_extension": ".py",
   "mimetype": "text/x-python",
   "name": "python",
   "nbconvert_exporter": "python",
   "pygments_lexer": "ipython3",
   "version": "3.7.12"
  },
  "papermill": {
   "default_parameters": {},
   "duration": 31217.791771,
   "end_time": "2024-04-15T04:24:48.403589",
   "environment_variables": {},
   "exception": null,
   "input_path": "__notebook__.ipynb",
   "output_path": "__notebook__.ipynb",
   "parameters": {},
   "start_time": "2024-04-14T19:44:30.611818",
   "version": "2.3.4"
  }
 },
 "nbformat": 4,
 "nbformat_minor": 5
}
