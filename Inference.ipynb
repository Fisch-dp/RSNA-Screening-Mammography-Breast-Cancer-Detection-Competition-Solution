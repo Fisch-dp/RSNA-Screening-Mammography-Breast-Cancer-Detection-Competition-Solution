{
 "cells": [
  {
   "attachments": {},
   "cell_type": "markdown",
   "id": "096b26a0",
   "metadata": {
    "papermill": {
     "duration": 0.006646,
     "end_time": "2024-04-18T07:20:34.375124",
     "exception": false,
     "start_time": "2024-04-18T07:20:34.368478",
     "status": "completed"
    },
    "tags": []
   },
   "source": [
    "## Initialization"
   ]
  },
  {
   "cell_type": "code",
   "execution_count": null,
   "id": "83090bf0",
   "metadata": {
    "execution": {
     "iopub.execute_input": "2024-04-18T07:20:34.387658Z",
     "iopub.status.busy": "2024-04-18T07:20:34.387264Z",
     "iopub.status.idle": "2024-04-18T07:21:38.473918Z",
     "shell.execute_reply": "2024-04-18T07:21:38.472707Z"
    },
    "papermill": {
     "duration": 64.096222,
     "end_time": "2024-04-18T07:21:38.476966",
     "exception": false,
     "start_time": "2024-04-18T07:20:34.380744",
     "status": "completed"
    },
    "tags": []
   },
   "outputs": [],
   "source": [
    "!pip install /kaggle/input/rsna-2022-whl/{pydicom-2.3.0-py3-none-any.whl,pylibjpeg-1.4.0-py3-none-any.whl,python_gdcm-3.0.15-cp37-cp37m-manylinux_2_17_x86_64.manylinux2014_x86_64.whl}\n",
    "#!pip install /kaggle/input/nvidia-dali-wheel/nvidia_dali_nightly_cuda110-1.22.0.dev20221213-6757685-py3-none-manylinux2014_x86_64.whl\n",
    "!pip install /kaggle/input/nvidia-dali-wheel/dicomsdl-0.109.1-cp37-cp37m-manylinux_2_12_x86_64.manylinux2010_x86_64.whl"
   ]
  },
  {
   "cell_type": "code",
   "execution_count": 2,
   "id": "f608e7f3",
   "metadata": {
    "execution": {
     "iopub.execute_input": "2024-04-18T07:21:38.494067Z",
     "iopub.status.busy": "2024-04-18T07:21:38.493692Z",
     "iopub.status.idle": "2024-04-18T07:21:54.023690Z",
     "shell.execute_reply": "2024-04-18T07:21:54.022545Z"
    },
    "papermill": {
     "duration": 15.541759,
     "end_time": "2024-04-18T07:21:54.026538",
     "exception": false,
     "start_time": "2024-04-18T07:21:38.484779",
     "status": "completed"
    },
    "tags": []
   },
   "outputs": [],
   "source": [
    "import argparse\n",
    "import gc\n",
    "import importlib\n",
    "import os\n",
    "import sys\n",
    "from numba import cuda \n",
    "\n",
    "sys.path.append('../input/monai-v101/')\n",
    "sys.path.append('../input/timm-0-6-9/pytorch-image-models-master/')\n",
    "\n",
    "import shutil\n",
    "import glob\n",
    "import multiprocessing\n",
    "import pydicom as dcm\n",
    "from pydicom.pixel_data_handlers.util import apply_voi_lut\n",
    "import dicomsdl\n",
    "import numpy as np\n",
    "import pandas as pd\n",
    "import torch\n",
    "from torch import nn\n",
    "import torch.nn.functional as F\n",
    "from torch.cuda.amp import GradScaler, autocast\n",
    "from torch.utils.data import DataLoader, Dataset\n",
    "from torch.utils.tensorboard import SummaryWriter\n",
    "from tqdm import tqdm\n",
    "import albumentations as A\n",
    "from albumentations import *\n",
    "from albumentations.pytorch.transforms import ToTensorV2\n",
    "import json\n",
    "import cv2\n",
    "from sklearn.metrics import roc_auc_score\n",
    "import timm\n",
    "import matplotlib.pyplot as plt\n",
    "from sklearn.model_selection import StratifiedGroupKFold\n",
    "from types import SimpleNamespace\n",
    "import seaborn as sns\n",
    "from prettytable import PrettyTable\n",
    "from PIL import Image\n",
    "from joblib import Parallel, delayed\n",
    "import tensorflow as tf\n",
    "\n",
    "sys.path.append(\"/kaggle/input/solution\")\n",
    "from Dataset import *\n",
    "from Lookahead import *\n",
    "from Model import *\n",
    "from config import *\n",
    "from utils import *\n",
    "from trainer import *"
   ]
  },
  {
   "cell_type": "code",
   "execution_count": 3,
   "id": "dee3a0e1",
   "metadata": {
    "execution": {
     "iopub.execute_input": "2024-04-18T07:21:54.041457Z",
     "iopub.status.busy": "2024-04-18T07:21:54.040707Z",
     "iopub.status.idle": "2024-04-18T07:21:54.045420Z",
     "shell.execute_reply": "2024-04-18T07:21:54.044493Z"
    },
    "papermill": {
     "duration": 0.014032,
     "end_time": "2024-04-18T07:21:54.047419",
     "exception": false,
     "start_time": "2024-04-18T07:21:54.033387",
     "status": "completed"
    },
    "tags": []
   },
   "outputs": [],
   "source": [
    "DEBUG = False\n",
    "debug_item = 10042\n",
    "NUM_OF_CORES=56"
   ]
  },
  {
   "cell_type": "code",
   "execution_count": 4,
   "id": "85e6ef22",
   "metadata": {
    "execution": {
     "iopub.execute_input": "2024-04-18T07:21:54.060859Z",
     "iopub.status.busy": "2024-04-18T07:21:54.060565Z",
     "iopub.status.idle": "2024-04-18T07:21:54.066617Z",
     "shell.execute_reply": "2024-04-18T07:21:54.065759Z"
    },
    "papermill": {
     "duration": 0.014981,
     "end_time": "2024-04-18T07:21:54.068585",
     "exception": false,
     "start_time": "2024-04-18T07:21:54.053604",
     "status": "completed"
    },
    "tags": []
   },
   "outputs": [],
   "source": [
    "cfg.img_size = (512, 256)\n",
    "cfg.batch_size = 32\n",
    "cfg.val_batch_size = 64\n",
    "cfg.clip_thr = 0.6735\n",
    "cfg.selectedP = 4\n",
    "cfg.weights = None # Trained Model Weight\n",
    "cfg.tta = False\n",
    "cfg.out_classes = [\"cancer\", \"invasive\"]\n",
    "cfg.aux_input = [\"age\", \"implant\", \"site\"]"
   ]
  },
  {
   "attachments": {},
   "cell_type": "markdown",
   "id": "cd4ca7fa",
   "metadata": {
    "papermill": {
     "duration": 0.005979,
     "end_time": "2024-04-18T07:21:54.106728",
     "exception": false,
     "start_time": "2024-04-18T07:21:54.100749",
     "status": "completed"
    },
    "tags": []
   },
   "source": [
    "## Data Preparation"
   ]
  },
  {
   "cell_type": "code",
   "execution_count": 6,
   "id": "79d9019a",
   "metadata": {
    "execution": {
     "iopub.execute_input": "2024-04-18T07:21:54.120398Z",
     "iopub.status.busy": "2024-04-18T07:21:54.120114Z",
     "iopub.status.idle": "2024-04-18T07:21:54.331467Z",
     "shell.execute_reply": "2024-04-18T07:21:54.330361Z"
    },
    "papermill": {
     "duration": 0.220898,
     "end_time": "2024-04-18T07:21:54.333923",
     "exception": false,
     "start_time": "2024-04-18T07:21:54.113025",
     "status": "completed"
    },
    "tags": []
   },
   "outputs": [
    {
     "name": "stdout",
     "output_type": "stream",
     "text": [
      "Number of images : 4\n"
     ]
    }
   ],
   "source": [
    "# data locations\n",
    "cfg.data_dir = \"/kaggle/input/rsna-breast-cancer-detection\"\n",
    "cfg.test_img_dir = \"/kaggle/input/rsna-breast-cancer-detection/test_images/\"\n",
    "cfg.root_dir = \"/kaggle/tmp/output/\"\n",
    "os.makedirs(cfg.root_dir, exist_ok=True)\n",
    "\n",
    "# df\n",
    "df_train = pd.read_csv('/kaggle/input/rsna-breast-cancer-detection/train.csv')\n",
    "df_train[\"prediction_id\"] = df_train.patient_id.apply(str) + \"_\" + df_train.laterality\n",
    "df_train['fold'] = 100\n",
    "df_test = pd.read_csv('/kaggle/input/rsna-breast-cancer-detection/test.csv')\n",
    "df_sub = pd.read_csv('/kaggle/input/rsna-breast-cancer-detection/sample_submission.csv')\n",
    "\n",
    "# DEBUG\n",
    "test_images = glob.glob(\"/kaggle/input/rsna-breast-cancer-detection/test_images/*/*.dcm\")\n",
    "if DEBUG:\n",
    "    df_test = pd.read_csv('/kaggle/input/rsna-breast-cancer-detection/train.csv')\n",
    "    cfg.test_img_dir = \"/kaggle/input/rsna-breast-cancer-detection/train_images/\"\n",
    "    test_images = glob.glob(f\"{cfg.test_img_dir}{debug_item}/*.dcm\")\n",
    "    df_test = df_test[df_test[\"patient_id\"]==debug_item]\n",
    "    df_test[\"prediction_id\"] = df_test.patient_id.apply(str) + \"_\" + df_test.laterality \n",
    "print(\"Number of images :\", len(test_images))\n",
    "\n",
    "\n",
    "# process df\n",
    "for ddf in [df_train, df_test]:\n",
    "    ddf['view'] = ddf['view'].map({machine_id: idx for idx, machine_id in enumerate(sorted(ddf['view'].unique()))})\n",
    "    ddf['site_id'] -= 1\n",
    "    ddf['age'].fillna(ddf['age'].mean(), inplace=True)\n",
    "    ddf[\"age\"] = ddf['age'] / 100\n",
    "    ddf = ddf.reset_index(drop=True)"
   ]
  },
  {
   "cell_type": "code",
   "execution_count": 7,
   "id": "d1058610",
   "metadata": {
    "_kg_hide-input": false,
    "execution": {
     "iopub.execute_input": "2024-04-18T07:21:54.348910Z",
     "iopub.status.busy": "2024-04-18T07:21:54.348578Z",
     "iopub.status.idle": "2024-04-18T07:21:54.367315Z",
     "shell.execute_reply": "2024-04-18T07:21:54.366410Z"
    },
    "papermill": {
     "duration": 0.028712,
     "end_time": "2024-04-18T07:21:54.369374",
     "exception": false,
     "start_time": "2024-04-18T07:21:54.340662",
     "status": "completed"
    },
    "tags": []
   },
   "outputs": [],
   "source": [
    "def load_image_dicomsdl(i):\n",
    "    dcm_file = cfg.test_img_dir + df_test.patient_id.astype(str).iloc[i] + \"/\" + df_test.image_id.astype(str).iloc[i] + '.dcm'\n",
    "    dataset = dicomsdl.open(dcm_file)\n",
    "    img = dataset.pixelData()\n",
    "\n",
    "    try:\n",
    "            # Load only the variables we need\n",
    "            center = dataset[\"WindowCenter\"]\n",
    "            width = dataset[\"WindowWidth\"]\n",
    "            bits_stored = dataset[\"BitsStored\"]\n",
    "            voi_lut_function = dataset[\"VOILUTFunction\"]\n",
    "\n",
    "            # For sigmoid it's a list, otherwise a single value\n",
    "            if isinstance(center, list):\n",
    "                center = center[0]\n",
    "            if isinstance(width, list):\n",
    "                width = width[0]\n",
    "\n",
    "            # Set y_min, max & range\n",
    "            y_min = 0\n",
    "            y_max = float(2**bits_stored - 1)\n",
    "            y_range = y_max\n",
    "\n",
    "            # Function with default LINEAR (so for Nan, it will use linear)\n",
    "            if voi_lut_function == \"SIGMOID\":\n",
    "                img = y_range / (1 + np.exp(-4 * (img - center) / width)) + y_min\n",
    "            else:\n",
    "                # Checks width for < 1 (in our case not necessary, always >= 750)\n",
    "                center -= 0.5\n",
    "                width -= 1\n",
    "\n",
    "                below = img <= (center - width / 2)\n",
    "                above = img > (center + width / 2)\n",
    "                between = np.logical_and(~below, ~above)\n",
    "\n",
    "                img[below] = y_min\n",
    "                img[above] = y_max\n",
    "                if between.any():\n",
    "                    img[between] = (\n",
    "                        ((img[between] - center) / width + 0.5) * y_range + y_min\n",
    "                    )\n",
    "    except Exception as e:\n",
    "#         dataset = dicomsdl.open(img_path)\n",
    "        img = dataset.pixelData()\n",
    "\n",
    "\n",
    "    img = (img - img.min()) / (img.max() - img.min())\n",
    "    if dataset[\"PhotometricInterpretation\"] == \"MONOCHROME1\":\n",
    "        img = 1 - img\n",
    "\n",
    "    img = (img * 255).astype(np.uint8)\n",
    "    \n",
    "    Y = img\n",
    "    xmin = Y.min()\n",
    "    xmax = Y.max()\n",
    "\n",
    "    norm = np.empty_like(Y, dtype=np.uint8)\n",
    "\n",
    "    dicomsdl.util.convert_to_uint8(Y, norm, xmin, xmax)\n",
    "\n",
    "    X = norm\n",
    "    X = X[5:-5, 5:-5]\n",
    "\n",
    "    output= cv2.connectedComponentsWithStats((X > 10).astype(np.uint8)[:, :], 8, cv2.CV_32S) #\n",
    "    stats = output[2]\n",
    "\n",
    "    idx = stats[1:, 4].argmax() + 1\n",
    "    x1, y1, w, h = stats[idx][:4]\n",
    "    x2 = x1 + w\n",
    "    y2 = y1 + h\n",
    "\n",
    "    img = Y[y1: y2, x1: x2]\n",
    "    img = Image.fromarray(img)\n",
    "    img = img.resize([cfg.img_size[1],cfg.img_size[0]], resample=Image.Resampling.LANCZOS)\n",
    "    img.save(cfg.root_dir + df_test.patient_id.astype(str).iloc[i] + \"_\" + df_test.image_id.astype(str).iloc[i] + \".png\", \"PNG\")"
   ]
  },
  {
   "cell_type": "code",
   "execution_count": null,
   "id": "04aa669a",
   "metadata": {
    "_kg_hide-input": true,
    "execution": {
     "iopub.execute_input": "2024-04-18T07:21:54.383157Z",
     "iopub.status.busy": "2024-04-18T07:21:54.382865Z",
     "iopub.status.idle": "2024-04-18T07:22:02.701553Z",
     "shell.execute_reply": "2024-04-18T07:22:02.700267Z"
    },
    "papermill": {
     "duration": 8.328041,
     "end_time": "2024-04-18T07:22:02.703750",
     "exception": false,
     "start_time": "2024-04-18T07:21:54.375709",
     "status": "completed"
    },
    "tags": []
   },
   "outputs": [],
   "source": [
    "Parallel(n_jobs=NUM_OF_CORES)(\n",
    "    delayed(load_image_dicomsdl)(f)\n",
    "    for f in tqdm(range(len(df_test.patient_id)))\n",
    "    )"
   ]
  },
  {
   "attachments": {},
   "cell_type": "markdown",
   "id": "eeec5483",
   "metadata": {
    "papermill": {
     "duration": 0.006577,
     "end_time": "2024-04-18T07:22:02.761116",
     "exception": false,
     "start_time": "2024-04-18T07:22:02.754539",
     "status": "completed"
    },
    "tags": []
   },
   "source": [
    "# Evaluation "
   ]
  },
  {
   "cell_type": "code",
   "execution_count": 10,
   "id": "f430b7fd",
   "metadata": {
    "execution": {
     "iopub.execute_input": "2024-04-18T07:22:02.775627Z",
     "iopub.status.busy": "2024-04-18T07:22:02.775336Z",
     "iopub.status.idle": "2024-04-18T07:22:02.780220Z",
     "shell.execute_reply": "2024-04-18T07:22:02.779300Z"
    },
    "papermill": {
     "duration": 0.014353,
     "end_time": "2024-04-18T07:22:02.782144",
     "exception": false,
     "start_time": "2024-04-18T07:22:02.767791",
     "status": "completed"
    },
    "tags": []
   },
   "outputs": [],
   "source": [
    "def gem(x):\n",
    "    x = x.pow(cfg.selectedP)\n",
    "    x = np.mean(x)\n",
    "    x = np.power(x, 1.0/cfg.selectedP)\n",
    "    return x"
   ]
  },
  {
   "cell_type": "code",
   "execution_count": 11,
   "id": "3c1f32c3",
   "metadata": {
    "execution": {
     "iopub.execute_input": "2024-04-18T07:22:02.796798Z",
     "iopub.status.busy": "2024-04-18T07:22:02.796508Z",
     "iopub.status.idle": "2024-04-18T07:22:19.338540Z",
     "shell.execute_reply": "2024-04-18T07:22:19.337161Z"
    },
    "papermill": {
     "duration": 16.551947,
     "end_time": "2024-04-18T07:22:19.340804",
     "exception": false,
     "start_time": "2024-04-18T07:22:02.788857",
     "status": "completed"
    },
    "tags": []
   },
   "outputs": [
    {
     "name": "stderr",
     "output_type": "stream",
     "text": [
      "100%|██████████| 1/1 [00:08<00:00,  8.13s/it]\n"
     ]
    }
   ],
   "source": [
    "set_seed(cfg.seed)\n",
    "model = Model(cfg)\n",
    "model.load_state_dict(torch.load(cfg.weights)[\"model\"])\n",
    "ter = trainer(cfg,\n",
    "     df = df_train,\n",
    "     model = model,\n",
    "     test = True,\n",
    "     test_df = df_test\n",
    "   )\n",
    "output_df = ter.predict(\"Test\")"
   ]
  },
  {
   "cell_type": "code",
   "execution_count": 12,
   "id": "b9488a1d",
   "metadata": {
    "execution": {
     "iopub.execute_input": "2024-04-18T07:22:19.356775Z",
     "iopub.status.busy": "2024-04-18T07:22:19.356418Z",
     "iopub.status.idle": "2024-04-18T07:22:19.383329Z",
     "shell.execute_reply": "2024-04-18T07:22:19.382423Z"
    },
    "papermill": {
     "duration": 0.037293,
     "end_time": "2024-04-18T07:22:19.385306",
     "exception": false,
     "start_time": "2024-04-18T07:22:19.348013",
     "status": "completed"
    },
    "tags": []
   },
   "outputs": [
    {
     "data": {
      "text/html": [
       "<div>\n",
       "<style scoped>\n",
       "    .dataframe tbody tr th:only-of-type {\n",
       "        vertical-align: middle;\n",
       "    }\n",
       "\n",
       "    .dataframe tbody tr th {\n",
       "        vertical-align: top;\n",
       "    }\n",
       "\n",
       "    .dataframe thead th {\n",
       "        text-align: right;\n",
       "    }\n",
       "</style>\n",
       "<table border=\"1\" class=\"dataframe\">\n",
       "  <thead>\n",
       "    <tr style=\"text-align: right;\">\n",
       "      <th></th>\n",
       "      <th>prediction_id</th>\n",
       "      <th>cancer</th>\n",
       "    </tr>\n",
       "  </thead>\n",
       "  <tbody>\n",
       "    <tr>\n",
       "      <th>0</th>\n",
       "      <td>10008_L</td>\n",
       "      <td>0</td>\n",
       "    </tr>\n",
       "    <tr>\n",
       "      <th>1</th>\n",
       "      <td>10008_R</td>\n",
       "      <td>0</td>\n",
       "    </tr>\n",
       "  </tbody>\n",
       "</table>\n",
       "</div>"
      ],
      "text/plain": [
       "  prediction_id  cancer\n",
       "0       10008_L       0\n",
       "1       10008_R       0"
      ]
     },
     "execution_count": 12,
     "metadata": {},
     "output_type": "execute_result"
    }
   ],
   "source": [
    "df_pred = output_df[['prediction_id', 'cancer_outputs']].reset_index(drop=True)\n",
    "df_pred = df_pred.rename(columns={\"cancer_outputs\": \"cancer\"})\n",
    "df_pred = df_pred.groupby(\"prediction_id\").agg(func=gem).reset_index()\n",
    "df_pred[\"cancer\"] = (df_pred[\"cancer\"] > cfg.clip_thr).astype(int)\n",
    "df_pred"
   ]
  },
  {
   "cell_type": "code",
   "execution_count": 13,
   "id": "18afe358",
   "metadata": {
    "execution": {
     "iopub.execute_input": "2024-04-18T07:22:19.401190Z",
     "iopub.status.busy": "2024-04-18T07:22:19.400898Z",
     "iopub.status.idle": "2024-04-18T07:22:19.415704Z",
     "shell.execute_reply": "2024-04-18T07:22:19.414952Z"
    },
    "papermill": {
     "duration": 0.02511,
     "end_time": "2024-04-18T07:22:19.417792",
     "exception": false,
     "start_time": "2024-04-18T07:22:19.392682",
     "status": "completed"
    },
    "tags": []
   },
   "outputs": [],
   "source": [
    "df_sub = df_sub[[\"prediction_id\"]].merge(df_pred, on=\"prediction_id\", how=\"left\")\n",
    "df_sub = df_sub.fillna(0.0)\n",
    "df_sub.to_csv('/kaggle/working/submission.csv', index=False)"
   ]
  }
 ],
 "metadata": {
  "kaggle": {
   "accelerator": "gpu",
   "dataSources": [
    {
     "databundleVersionId": 4629629,
     "sourceId": 39272,
     "sourceType": "competition"
    },
    {
     "datasetId": 2442142,
     "sourceId": 4133932,
     "sourceType": "datasetVersion"
    },
    {
     "datasetId": 2696406,
     "sourceId": 4635516,
     "sourceType": "datasetVersion"
    },
    {
     "datasetId": 2726166,
     "sourceId": 4721425,
     "sourceType": "datasetVersion"
    },
    {
     "datasetId": 2693468,
     "sourceId": 4976318,
     "sourceType": "datasetVersion"
    },
    {
     "datasetId": 3751790,
     "sourceId": 7920567,
     "sourceType": "datasetVersion"
    },
    {
     "sourceId": 104036025,
     "sourceType": "kernelVersion"
    },
    {
     "isSourceIdPinned": true,
     "modelInstanceId": 12567,
     "sourceId": 33252,
     "sourceType": "modelInstanceVersion"
    }
   ],
   "dockerImageVersionId": 30302,
   "isGpuEnabled": true,
   "isInternetEnabled": false,
   "language": "python",
   "sourceType": "notebook"
  },
  "kernelspec": {
   "display_name": "Python 3",
   "language": "python",
   "name": "python3"
  },
  "language_info": {
   "codemirror_mode": {
    "name": "ipython",
    "version": 3
   },
   "file_extension": ".py",
   "mimetype": "text/x-python",
   "name": "python",
   "nbconvert_exporter": "python",
   "pygments_lexer": "ipython3",
   "version": "3.7.12"
  },
  "papermill": {
   "default_parameters": {},
   "duration": 117.068451,
   "end_time": "2024-04-18T07:22:22.444871",
   "environment_variables": {},
   "exception": null,
   "input_path": "__notebook__.ipynb",
   "output_path": "__notebook__.ipynb",
   "parameters": {},
   "start_time": "2024-04-18T07:20:25.376420",
   "version": "2.3.4"
  }
 },
 "nbformat": 4,
 "nbformat_minor": 5
}
